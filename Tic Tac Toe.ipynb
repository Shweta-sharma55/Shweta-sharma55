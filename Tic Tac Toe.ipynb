{
 "cells": [
  {
   "cell_type": "code",
   "execution_count": null,
   "id": "3bafefe1",
   "metadata": {},
   "outputs": [],
   "source": [
    "from IPython.display import clear_output\n",
    "def create_board(board):\n",
    "    clear_output() \n",
    "    print(board[7]+ \"|\" + board[8]+ \"|\"+ board[9])\n",
    "    print(board[4]+ \"|\" + board[5]+ \"|\"+ board[6])\n",
    "    print(board[1]+ \"|\" + board[2]+ \"|\"+ board[3])\n",
    "       "
   ]
  },
  {
   "cell_type": "code",
   "execution_count": null,
   "id": "9f4fabeb",
   "metadata": {},
   "outputs": [],
   "source": [
    "test_board = [\" \"] * 10\n",
    "create_board(test_board)"
   ]
  },
  {
   "cell_type": "code",
   "execution_count": null,
   "id": "24f1c7be",
   "metadata": {
    "scrolled": true
   },
   "outputs": [],
   "source": [
    "def player_input():\n",
    "    marker = \"\"\n",
    "    while not (marker == \"X\" or marker == \"O\"):\n",
    "        marker = input(\"PLayer-1, choose one: X or O:  \").upper()\n",
    "    if  marker != \"X\" and marker != \"O\":\n",
    "        print(\"Invalid choice. Choose X or O:  \")\n",
    "    if marker == \"X\":\n",
    "        return (\"X\", 'O')\n",
    "    else:\n",
    "        return (\"O\", \"X\")\n",
    "\n"
   ]
  },
  {
   "cell_type": "code",
   "execution_count": null,
   "id": "d3eb3db4",
   "metadata": {},
   "outputs": [],
   "source": [
    "def place_marker(board, marker,position):\n",
    "    board[position] = marker\n",
    "    "
   ]
  },
  {
   "cell_type": "code",
   "execution_count": null,
   "id": "84073d0a",
   "metadata": {},
   "outputs": [],
   "source": [
    "place_marker(test_board,\"o\", 8)\n",
    "create_board(test_board)"
   ]
  },
  {
   "cell_type": "code",
   "execution_count": null,
   "id": "8c7d89f2",
   "metadata": {},
   "outputs": [],
   "source": [
    "def win_check(board,mark):\n",
    "    return ((board[7] == mark and board[8] == mark and board[9] == mark) or # across the top\n",
    "    (board[4] == mark and board[5] == mark and board[6] == mark) or # across the middle\n",
    "    (board[1] == mark and board[2] == mark and board[3] == mark) or # across the bottom\n",
    "    (board[7] == mark and board[4] == mark and board[1] == mark) or # down the middle\n",
    "    (board[8] == mark and board[5] == mark and board[2] == mark) or # down the middle\n",
    "    (board[9] == mark and board[6] == mark and board[3] == mark) or # down the right side\n",
    "    (board[7] == mark and board[5] == mark and board[3] == mark) or # diagonal\n",
    "    (board[9] == mark and board[5] == mark and board[1] == mark))"
   ]
  },
  {
   "cell_type": "code",
   "execution_count": null,
   "id": "666d5843",
   "metadata": {},
   "outputs": [],
   "source": [
    "import random\n",
    "def choose_first():\n",
    "    if random.randint(0,1) == 0:\n",
    "        return \"Player 2\"\n",
    "    else:\n",
    "        return \"Player 1\"\n",
    "    "
   ]
  },
  {
   "cell_type": "code",
   "execution_count": null,
   "id": "35fcf815",
   "metadata": {},
   "outputs": [],
   "source": [
    "def space_check(board, position):\n",
    "    return board[position]== \" \""
   ]
  },
  {
   "cell_type": "code",
   "execution_count": null,
   "id": "bdecb8a3",
   "metadata": {},
   "outputs": [],
   "source": [
    "def full_board(board, position):\n",
    "    for i in range(1,10):\n",
    "        if space_check(board, i):\n",
    "            return False\n",
    "    return True"
   ]
  },
  {
   "cell_type": "code",
   "execution_count": null,
   "id": "01db3948",
   "metadata": {},
   "outputs": [],
   "source": [
    "def player_choice(board):\n",
    "    position = 0\n",
    "    while position not in [1,2,3,4,5,6,7,8,9] or not space_check(board, position):\n",
    "        position = input(\"Choose your next position  (1-9)\")\n",
    "    return position\n",
    "    "
   ]
  },
  {
   "cell_type": "code",
   "execution_count": null,
   "id": "ea2e486c",
   "metadata": {},
   "outputs": [],
   "source": [
    "def replay():\n",
    "    choice = input('Do you want to play again? Enter Yes or No: ')\n",
    "    return choice == \"Yes\".lower()\n"
   ]
  },
  {
   "cell_type": "code",
   "execution_count": null,
   "id": "6511b91a",
   "metadata": {},
   "outputs": [],
   "source": [
    "print(\"Welcome to Tic Tac Toe!\")\n",
    "while True:\n",
    "    theboard = [\"\"] * 10\n",
    "    player_1_marker, player_2_marker = player_input()\n",
    "    turn = choose_first()\n",
    "    print( turn + \"  will go first.\")\n",
    "    play_game = input(\"Are you ready to play game. Enter Yes or No  \")\n",
    "    if play_game == \"Yes\" or \"y\":\n",
    "        game_on = True\n",
    "    else:\n",
    "        game_on = False\n",
    "    while game_on:\n",
    "        if turn == \"Player 1\":\n",
    "            create_board(theboard)\n",
    "            position = player_choice(theboard)\n",
    "            place_marker(theboard, player_1_marker,position)\n",
    "          \n",
    "            \n",
    "            \n",
    "            if win_check(theboard,player_1_marker):\n",
    "                create_board(theboard)\n",
    "                print(\"Player 1 has won the match.\")\n",
    "                game_on = False\n",
    "            else:\n",
    "                if full_board_check(theboard):\n",
    "                    create_board(theboard)\n",
    "                    print(\"It is a draw\")\n",
    "                    break\n",
    "                else:\n",
    "                    turn  = \"Player 2\"\n",
    "        else:\n",
    "            create_board(theboard)\n",
    "            position = player_choice(theboard)\n",
    "            place_marker (theboard, player_2_marker,position)\n",
    "             \n",
    "            if win_check(theboard,player_2_marker):\n",
    "                create_board(theboard)\n",
    "                print(\"Player 2 has won the match.\")\n",
    "                game_on = False\n",
    "            else:\n",
    "                if full_board_check(theboard):\n",
    "                    create_board(theboard)\n",
    "                    print(\"It is a draw\")\n",
    "                    break\n",
    "                else:\n",
    "                    turn  = \"Player 1\"\n",
    "    if not replay():\n",
    "         break\n",
    "            "
   ]
  },
  {
   "cell_type": "code",
   "execution_count": null,
   "id": "eefb522c",
   "metadata": {},
   "outputs": [],
   "source": []
  },
  {
   "cell_type": "code",
   "execution_count": null,
   "id": "9da3c5a6",
   "metadata": {},
   "outputs": [],
   "source": []
  }
 ],
 "metadata": {
  "kernelspec": {
   "display_name": "Python 3 (ipykernel)",
   "language": "python",
   "name": "python3"
  },
  "language_info": {
   "codemirror_mode": {
    "name": "ipython",
    "version": 3
   },
   "file_extension": ".py",
   "mimetype": "text/x-python",
   "name": "python",
   "nbconvert_exporter": "python",
   "pygments_lexer": "ipython3",
   "version": "3.9.12"
  }
 },
 "nbformat": 4,
 "nbformat_minor": 5
}
