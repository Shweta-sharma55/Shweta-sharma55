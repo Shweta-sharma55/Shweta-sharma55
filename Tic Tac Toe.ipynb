{
 "cells": [
  {
   "cell_type": "code",
   "execution_count": 1,
   "id": "3bafefe1",
   "metadata": {},
   "outputs": [],
   "source": [
    "from IPython.display import clear_output\n",
    "def create_board(board):\n",
    "    clear_output() \n",
    "    print(board[7]+ \"|\" + board[8]+ \"|\"+ board[9])\n",
    "    print(board[4]+ \"|\" + board[5]+ \"|\"+ board[6])\n",
    "    print(board[1]+ \"|\" + board[2]+ \"|\"+ board[3])\n",
    "       "
   ]
  },
  {
   "cell_type": "code",
   "execution_count": 2,
   "id": "9f4fabeb",
   "metadata": {},
   "outputs": [
    {
     "name": "stdout",
     "output_type": "stream",
     "text": [
      " | | \n",
      " | | \n",
      " | | \n"
     ]
    }
   ],
   "source": [
    "test_board = [\" \"] * 10\n",
    "create_board(test_board)"
   ]
  },
  {
   "cell_type": "code",
   "execution_count": 3,
   "id": "24f1c7be",
   "metadata": {
    "scrolled": true
   },
   "outputs": [],
   "source": [
    "def player_input():\n",
    "    marker = \"\"\n",
    "    while not (marker == \"X\" or marker == \"O\"):\n",
    "        marker = input(\"PLayer-1, choose one: X or O:  \").upper()\n",
    "    if  marker != \"X\" and marker != \"O\":\n",
    "        print(\"Invalid choice. Choose X or O:  \")\n",
    "    if marker == \"X\":\n",
    "        return (\"X\", 'O')\n",
    "    else:\n",
    "        return (\"O\", \"X\")\n",
    "\n"
   ]
  },
  {
   "cell_type": "code",
   "execution_count": 4,
   "id": "d3eb3db4",
   "metadata": {},
   "outputs": [],
   "source": [
    "def place_marker(board, marker,position):\n",
    "    board[position] = marker\n",
    "    "
   ]
  },
  {
   "cell_type": "code",
   "execution_count": 5,
   "id": "84073d0a",
   "metadata": {},
   "outputs": [
    {
     "name": "stdout",
     "output_type": "stream",
     "text": [
      " |o| \n",
      " | | \n",
      " | | \n"
     ]
    }
   ],
   "source": [
    "place_marker(test_board,\"o\", 8)\n",
    "create_board(test_board)"
   ]
  },
  {
   "cell_type": "code",
   "execution_count": 6,
   "id": "8c7d89f2",
   "metadata": {},
   "outputs": [],
   "source": [
    "def win_check(board,mark):\n",
    "    return ((board[7] == mark and board[8] == mark and board[9] == mark) or # across the top\n",
    "    (board[4] == mark and board[5] == mark and board[6] == mark) or # across the middle\n",
    "    (board[1] == mark and board[2] == mark and board[3] == mark) or # across the bottom\n",
    "    (board[7] == mark and board[4] == mark and board[1] == mark) or # down the middle\n",
    "    (board[8] == mark and board[5] == mark and board[2] == mark) or # down the middle\n",
    "    (board[9] == mark and board[6] == mark and board[3] == mark) or # down the right side\n",
    "    (board[7] == mark and board[5] == mark and board[3] == mark) or # diagonal\n",
    "    (board[9] == mark and board[5] == mark and board[1] == mark))"
   ]
  },
  {
   "cell_type": "code",
   "execution_count": 7,
   "id": "666d5843",
   "metadata": {},
   "outputs": [],
   "source": [
    "import random\n",
    "def choose_first():\n",
    "    if random.randint(0,1) == 0:\n",
    "        return \"Player 2\"\n",
    "    else:\n",
    "        return \"Player 1\"\n",
    "    "
   ]
  },
  {
   "cell_type": "code",
   "execution_count": 8,
   "id": "35fcf815",
   "metadata": {},
   "outputs": [],
   "source": [
    "def space_check(board, position):\n",
    "    return board[position]== \" \""
   ]
  },
  {
   "cell_type": "code",
   "execution_count": 9,
   "id": "bdecb8a3",
   "metadata": {},
   "outputs": [],
   "source": [
    "def full_board(board, position):\n",
    "    for i in range(1,10):\n",
    "        if space_check(board, i):\n",
    "            return False\n",
    "    return True"
   ]
  },
  {
   "cell_type": "code",
   "execution_count": 10,
   "id": "01db3948",
   "metadata": {},
   "outputs": [],
   "source": [
    "def player_choice(board):\n",
    "    position = 0\n",
    "    while position not in [1,2,3,4,5,6,7,8,9] or not space_check(board, position):\n",
    "        position = input(\"Choose your next position  (1-9)\")\n",
    "    return position\n",
    "    "
   ]
  },
  {
   "cell_type": "code",
   "execution_count": 11,
   "id": "ea2e486c",
   "metadata": {},
   "outputs": [],
   "source": [
    "def replay():\n",
    "    choice = input('Do you want to play again? Enter Yes or No: ')\n",
    "    return choice == \"Yes\".lower()\n"
   ]
  },
  {
   "cell_type": "code",
   "execution_count": 12,
   "id": "6511b91a",
   "metadata": {},
   "outputs": [
    {
     "name": "stdout",
     "output_type": "stream",
     "text": [
      "||\n",
      "||\n",
      "||\n"
     ]
    },
    {
     "ename": "KeyboardInterrupt",
     "evalue": "Interrupted by user",
     "output_type": "error",
     "traceback": [
      "\u001b[1;31m---------------------------------------------------------------------------\u001b[0m",
      "\u001b[1;31mKeyboardInterrupt\u001b[0m                         Traceback (most recent call last)",
      "\u001b[1;32mc:\\TickTokToe\\Shweta-sharma55\\Tic Tac Toe.ipynb Cell 12\u001b[0m in \u001b[0;36m<cell line: 2>\u001b[1;34m()\u001b[0m\n\u001b[0;32m     <a href='vscode-notebook-cell:/c%3A/TickTokToe/Shweta-sharma55/Tic%20Tac%20Toe.ipynb#X14sZmlsZQ%3D%3D?line=12'>13</a>\u001b[0m \u001b[39mif\u001b[39;00m turn \u001b[39m==\u001b[39m \u001b[39m\"\u001b[39m\u001b[39mPlayer 1\u001b[39m\u001b[39m\"\u001b[39m:\n\u001b[0;32m     <a href='vscode-notebook-cell:/c%3A/TickTokToe/Shweta-sharma55/Tic%20Tac%20Toe.ipynb#X14sZmlsZQ%3D%3D?line=13'>14</a>\u001b[0m     create_board(BoardDB)\n\u001b[1;32m---> <a href='vscode-notebook-cell:/c%3A/TickTokToe/Shweta-sharma55/Tic%20Tac%20Toe.ipynb#X14sZmlsZQ%3D%3D?line=14'>15</a>\u001b[0m     position \u001b[39m=\u001b[39m player_choice(BoardDB)\n\u001b[0;32m     <a href='vscode-notebook-cell:/c%3A/TickTokToe/Shweta-sharma55/Tic%20Tac%20Toe.ipynb#X14sZmlsZQ%3D%3D?line=15'>16</a>\u001b[0m     place_marker(BoardDB, player_1_marker,position)\n\u001b[0;32m     <a href='vscode-notebook-cell:/c%3A/TickTokToe/Shweta-sharma55/Tic%20Tac%20Toe.ipynb#X14sZmlsZQ%3D%3D?line=19'>20</a>\u001b[0m     \u001b[39mif\u001b[39;00m win_check(BoardDB,player_1_marker):\n",
      "\u001b[1;32mc:\\TickTokToe\\Shweta-sharma55\\Tic Tac Toe.ipynb Cell 12\u001b[0m in \u001b[0;36mplayer_choice\u001b[1;34m(board)\u001b[0m\n\u001b[0;32m      <a href='vscode-notebook-cell:/c%3A/TickTokToe/Shweta-sharma55/Tic%20Tac%20Toe.ipynb#X14sZmlsZQ%3D%3D?line=1'>2</a>\u001b[0m position \u001b[39m=\u001b[39m \u001b[39m0\u001b[39m\n\u001b[0;32m      <a href='vscode-notebook-cell:/c%3A/TickTokToe/Shweta-sharma55/Tic%20Tac%20Toe.ipynb#X14sZmlsZQ%3D%3D?line=2'>3</a>\u001b[0m \u001b[39mwhile\u001b[39;00m position \u001b[39mnot\u001b[39;00m \u001b[39min\u001b[39;00m [\u001b[39m1\u001b[39m,\u001b[39m2\u001b[39m,\u001b[39m3\u001b[39m,\u001b[39m4\u001b[39m,\u001b[39m5\u001b[39m,\u001b[39m6\u001b[39m,\u001b[39m7\u001b[39m,\u001b[39m8\u001b[39m,\u001b[39m9\u001b[39m] \u001b[39mor\u001b[39;00m \u001b[39mnot\u001b[39;00m space_check(board, position):\n\u001b[1;32m----> <a href='vscode-notebook-cell:/c%3A/TickTokToe/Shweta-sharma55/Tic%20Tac%20Toe.ipynb#X14sZmlsZQ%3D%3D?line=3'>4</a>\u001b[0m     position \u001b[39m=\u001b[39m \u001b[39minput\u001b[39;49m(\u001b[39m\"\u001b[39;49m\u001b[39mChoose your next position  (1-9)\u001b[39;49m\u001b[39m\"\u001b[39;49m)\n\u001b[0;32m      <a href='vscode-notebook-cell:/c%3A/TickTokToe/Shweta-sharma55/Tic%20Tac%20Toe.ipynb#X14sZmlsZQ%3D%3D?line=4'>5</a>\u001b[0m \u001b[39mreturn\u001b[39;00m position\n",
      "File \u001b[1;32mc:\\Program Files\\Python310\\lib\\site-packages\\ipykernel\\kernelbase.py:1177\u001b[0m, in \u001b[0;36mKernel.raw_input\u001b[1;34m(self, prompt)\u001b[0m\n\u001b[0;32m   1173\u001b[0m \u001b[39mif\u001b[39;00m \u001b[39mnot\u001b[39;00m \u001b[39mself\u001b[39m\u001b[39m.\u001b[39m_allow_stdin:\n\u001b[0;32m   1174\u001b[0m     \u001b[39mraise\u001b[39;00m StdinNotImplementedError(\n\u001b[0;32m   1175\u001b[0m         \u001b[39m\"\u001b[39m\u001b[39mraw_input was called, but this frontend does not support input requests.\u001b[39m\u001b[39m\"\u001b[39m\n\u001b[0;32m   1176\u001b[0m     )\n\u001b[1;32m-> 1177\u001b[0m \u001b[39mreturn\u001b[39;00m \u001b[39mself\u001b[39;49m\u001b[39m.\u001b[39;49m_input_request(\n\u001b[0;32m   1178\u001b[0m     \u001b[39mstr\u001b[39;49m(prompt),\n\u001b[0;32m   1179\u001b[0m     \u001b[39mself\u001b[39;49m\u001b[39m.\u001b[39;49m_parent_ident[\u001b[39m\"\u001b[39;49m\u001b[39mshell\u001b[39;49m\u001b[39m\"\u001b[39;49m],\n\u001b[0;32m   1180\u001b[0m     \u001b[39mself\u001b[39;49m\u001b[39m.\u001b[39;49mget_parent(\u001b[39m\"\u001b[39;49m\u001b[39mshell\u001b[39;49m\u001b[39m\"\u001b[39;49m),\n\u001b[0;32m   1181\u001b[0m     password\u001b[39m=\u001b[39;49m\u001b[39mFalse\u001b[39;49;00m,\n\u001b[0;32m   1182\u001b[0m )\n",
      "File \u001b[1;32mc:\\Program Files\\Python310\\lib\\site-packages\\ipykernel\\kernelbase.py:1219\u001b[0m, in \u001b[0;36mKernel._input_request\u001b[1;34m(self, prompt, ident, parent, password)\u001b[0m\n\u001b[0;32m   1216\u001b[0m             \u001b[39mbreak\u001b[39;00m\n\u001b[0;32m   1217\u001b[0m \u001b[39mexcept\u001b[39;00m \u001b[39mKeyboardInterrupt\u001b[39;00m:\n\u001b[0;32m   1218\u001b[0m     \u001b[39m# re-raise KeyboardInterrupt, to truncate traceback\u001b[39;00m\n\u001b[1;32m-> 1219\u001b[0m     \u001b[39mraise\u001b[39;00m \u001b[39mKeyboardInterrupt\u001b[39;00m(\u001b[39m\"\u001b[39m\u001b[39mInterrupted by user\u001b[39m\u001b[39m\"\u001b[39m) \u001b[39mfrom\u001b[39;00m \u001b[39mNone\u001b[39m\n\u001b[0;32m   1220\u001b[0m \u001b[39mexcept\u001b[39;00m \u001b[39mException\u001b[39;00m:\n\u001b[0;32m   1221\u001b[0m     \u001b[39mself\u001b[39m\u001b[39m.\u001b[39mlog\u001b[39m.\u001b[39mwarning(\u001b[39m\"\u001b[39m\u001b[39mInvalid Message:\u001b[39m\u001b[39m\"\u001b[39m, exc_info\u001b[39m=\u001b[39m\u001b[39mTrue\u001b[39;00m)\n",
      "\u001b[1;31mKeyboardInterrupt\u001b[0m: Interrupted by user"
     ]
    }
   ],
   "source": [
    "print(\"Welcome to Tic Tac Toe!\")\n",
    "while True:\n",
    "    BoardDB = [\"\"] * 10\n",
    "    player_1_marker, player_2_marker = player_input()\n",
    "    turn = choose_first()\n",
    "    print( turn + \"  will go first.\")\n",
    "    play_game = input(\"Are you ready to play game. Enter Yes or No  \")\n",
    "    if play_game == \"Yes\" or \"y\":\n",
    "        game_on = True\n",
    "    else:\n",
    "        game_on = False\n",
    "    while game_on:\n",
    "        if turn == \"Player 1\":\n",
    "            create_board(BoardDB)\n",
    "            position = player_choice(BoardDB)\n",
    "            place_marker(BoardDB, player_1_marker,position)\n",
    "          \n",
    "            \n",
    "            \n",
    "            if win_check(BoardDB,player_1_marker):\n",
    "                create_board(BoardDB)\n",
    "                print(\"Player 1 has won the match.\")\n",
    "                game_on = False\n",
    "            else:\n",
    "                if full_board_check(BoardDB):\n",
    "                    create_board(BoardDB)\n",
    "                    print(\"It is a draw\")\n",
    "                    break\n",
    "                else:\n",
    "                    turn  = \"Player 2\"\n",
    "        else:\n",
    "            create_board(BoardDB)\n",
    "            position = player_choice(BoardDB)\n",
    "            place_marker (BoardDB, player_2_marker,position)\n",
    "             \n",
    "            if win_check(BoardDB,player_2_marker):\n",
    "                create_board(BoardDB)\n",
    "                print(\"Player 2 has won the match.\")\n",
    "                game_on = False\n",
    "            else:\n",
    "                if full_board_check(BoardDB):\n",
    "                    create_board(BoardDB)\n",
    "                    print(\"It is a draw\")\n",
    "                    break\n",
    "                else:\n",
    "                    turn  = \"Player 1\"\n",
    "    if not replay():\n",
    "         break\n",
    "            "
   ]
  },
  {
   "cell_type": "code",
   "execution_count": null,
   "id": "eefb522c",
   "metadata": {},
   "outputs": [],
   "source": []
  },
  {
   "cell_type": "code",
   "execution_count": null,
   "id": "9da3c5a6",
   "metadata": {},
   "outputs": [],
   "source": []
  }
 ],
 "metadata": {
  "kernelspec": {
   "display_name": "Python 3.10.3 64-bit",
   "language": "python",
   "name": "python3"
  },
  "language_info": {
   "codemirror_mode": {
    "name": "ipython",
    "version": 3
   },
   "file_extension": ".py",
   "mimetype": "text/x-python",
   "name": "python",
   "nbconvert_exporter": "python",
   "pygments_lexer": "ipython3",
   "version": "3.10.3"
  },
  "vscode": {
   "interpreter": {
    "hash": "26de051ba29f2982a8de78e945f0abaf191376122a1563185a90213a26c5da77"
   }
  }
 },
 "nbformat": 4,
 "nbformat_minor": 5
}
